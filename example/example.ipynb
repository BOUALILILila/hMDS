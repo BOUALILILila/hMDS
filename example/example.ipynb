{
 "cells": [
  {
   "cell_type": "code",
   "execution_count": 15,
   "metadata": {},
   "outputs": [
    {
     "name": "stdout",
     "output_type": "stream",
     "text": [
      "Launching h-mds ...\n",
      "found 7 dimensions\n",
      "Time Elapsed = 0.0\n",
      ">> Embeddings in the Poincaré Ball of dimension r = 7\n",
      ">> Recovered pairwise distances:\n",
      "[[ 0.  6.  8.  9. 10. 11. 12. 12.]\n",
      " [ 6.  0.  6.  7.  8.  9. 10. 10.]\n",
      " [ 8.  6.  0.  7.  8.  9. 10. 10.]\n",
      " [ 9.  7.  7.  0.  7.  8.  9.  9.]\n",
      " [10.  8.  8.  7.  0.  5.  6.  6.]\n",
      " [11.  9.  9.  8.  5.  0.  5.  5.]\n",
      " [12. 10. 10.  9.  6.  5.  0.  4.]\n",
      " [12. 10. 10.  9.  6.  5.  4.  0.]]\n",
      ">> Average distortion = 0.0, best average distortion is 0.\n",
      ">> Worst-case distortion = 1.0, best worst-case distortion is 1.\n"
     ]
    }
   ],
   "source": [
    "import numpy as np\n",
    "from hMDS.embedding import hmds, poincare_dist\n",
    "from hMDS.utils import distortion\n",
    "\n",
    "# Original distance matrix\n",
    "A = np.array([\n",
    "              [0.,  6,  8,  9,  10, 11, 12, 12], \n",
    "              [6.,  0,  6,  7,  8,  9,  10, 10],\n",
    "              [8.,  6,  0,  7,  8,  9,  10, 10],\n",
    "              [9.,  7,  7,  0,  7,  8,  9,  9],\n",
    "              [10,  8,  8,  7,  0,  5,  6,  6],\n",
    "              [11,  9,  9,  8,  5,  0,  5,  5],\n",
    "              [12, 10, 10,  9,  6,  5,  0,  4],\n",
    "              [12, 10, 10,  9,  6,  5,  4,  0],\n",
    "            ])\n",
    "# Run hMDS\n",
    "scale = 1\n",
    "Xrec = hmds(A, k=8, scale=scale)\n",
    "\n",
    "print(f\">> Embeddings in the Poincaré Ball of dimension r = {Xrec.shape[1]}\")\n",
    "\n",
    "# Compute the reconstructed distance matrix\n",
    "n = A.shape[0]\n",
    "Hrec = np.zeros_like(A)\n",
    "for i in range(n):\n",
    "    for j in range(n):\n",
    "        Hrec[i,j] = poincare_dist(Xrec[i], Xrec[j])/scale\n",
    "\n",
    "print(\">> Recovered pairwise distances:\")\n",
    "print(np.round(Hrec, 2))\n",
    "\n",
    "# Evaluate the distortion\n",
    "dist = distortion(A, Hrec, n=8)\n",
    "print(f'>> Average distortion = {np.round(dist[\"avg_distortion\"], 2)}, best average distortion is 0.')\n",
    "print(f'>> Worst-case distortion = {np.round(dist[\"wc_distortion\"], 2)}, best worst-case distortion is 1.')\n"
   ]
  },
  {
   "attachments": {},
   "cell_type": "markdown",
   "metadata": {},
   "source": [
    "# Embedding in the Poincaré Disk k=2"
   ]
  },
  {
   "attachments": {},
   "cell_type": "markdown",
   "metadata": {},
   "source": [
    "The Poincaré Disk is a hyperbolic space of only 2 dimensions. We can see how embedding in this space increases the distortion."
   ]
  },
  {
   "cell_type": "code",
   "execution_count": 21,
   "metadata": {},
   "outputs": [
    {
     "name": "stdout",
     "output_type": "stream",
     "text": [
      "Launching h-mds ...\n",
      "found 2 dimensions\n",
      "Time Elapsed = 0.0\n",
      ">> Embeddings in the Poincaré Ball of dimension r = 2\n",
      ">> Recovered pairwise distances:\n",
      "[[ 0.    3.18  6.95  8.6   9.6  10.86 11.96 11.96]\n",
      " [ 3.18  0.    3.87  5.82  7.35  8.66  9.78  9.78]\n",
      " [ 6.95  3.87  0.    3.58  7.14  8.58  9.74  9.74]\n",
      " [ 8.6   5.82  3.58  0.    5.85  7.39  8.58  8.58]\n",
      " [ 9.6   7.35  7.14  5.85  0.    1.6   2.83  2.83]\n",
      " [10.86  8.66  8.58  7.39  1.6   0.    1.24  1.24]\n",
      " [11.96  9.78  9.74  8.58  2.83  1.24  0.    0.  ]\n",
      " [11.96  9.78  9.74  8.58  2.83  1.24  0.    0.  ]]\n",
      ">> Average distortion = 0.21, best average distortion is 0.\n",
      ">> Worst-case distortion = 4.03, best worst-case distortion is 1.\n"
     ]
    }
   ],
   "source": [
    "# Run hMDS\n",
    "scale = 1\n",
    "Xrec = hmds(A, k=2, scale=scale)\n",
    "\n",
    "print(f\">> Embeddings in the Poincaré Ball of dimension r = {Xrec.shape[1]}\")\n",
    "\n",
    "# Compute the reconstructed distance matrix\n",
    "n = A.shape[0]\n",
    "Hrec = np.zeros_like(A)\n",
    "for i in range(n):\n",
    "    for j in range(n):\n",
    "        Hrec[i,j] = poincare_dist(Xrec[i], Xrec[j])/scale\n",
    "\n",
    "print(\">> Recovered pairwise distances:\")\n",
    "print(np.round(Hrec, 2))\n",
    "\n",
    "# Evaluate the distortion\n",
    "dist = distortion(A, Hrec, n=8)\n",
    "print(f'>> Average distortion = {np.round(dist[\"avg_distortion\"], 2)}, best average distortion is 0.')\n",
    "print(f'>> Worst-case distortion = {np.round(dist[\"wc_distortion\"], 2)}, best worst-case distortion is 1.')\n"
   ]
  }
 ],
 "metadata": {
  "kernelspec": {
   "display_name": "base",
   "language": "python",
   "name": "python3"
  },
  "language_info": {
   "codemirror_mode": {
    "name": "ipython",
    "version": 3
   },
   "file_extension": ".py",
   "mimetype": "text/x-python",
   "name": "python",
   "nbconvert_exporter": "python",
   "pygments_lexer": "ipython3",
   "version": "3.9.13"
  },
  "orig_nbformat": 4
 },
 "nbformat": 4,
 "nbformat_minor": 2
}
