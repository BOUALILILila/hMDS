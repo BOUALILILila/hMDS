{
 "cells": [
  {
   "cell_type": "code",
   "execution_count": 1,
   "metadata": {},
   "outputs": [
    {
     "name": "stdout",
     "output_type": "stream",
     "text": [
      "Launching h-mds ...\n",
      "found 7 dimensions\n",
      "Time Elapsed = 0.0051152706146240234\n",
      ">> Embeddings in the Poincaré Ball of dimension r = 7\n",
      ">> Recovered pairwise distances:\n",
      "[[ 0.  6.  8.  9. 10. 11. 12. 12.]\n",
      " [ 6.  0.  6.  7.  8.  9. 10. 10.]\n",
      " [ 8.  6.  0.  7.  8.  9. 10. 10.]\n",
      " [ 9.  7.  7.  0.  7.  8.  9.  9.]\n",
      " [10.  8.  8.  7.  0.  5.  6.  6.]\n",
      " [11.  9.  9.  8.  5.  0.  5.  5.]\n",
      " [12. 10. 10.  9.  6.  5.  0.  4.]\n",
      " [12. 10. 10.  9.  6.  5.  4.  0.]]\n",
      ">> Average distortion = 0.0, best average distortion is 0.\n",
      ">> Worst-case distortion = 1.0, best worst-case distortion is 1.\n"
     ]
    }
   ],
   "source": [
    "import numpy as np\n",
    "from hMDS.embedding import hmds, poincare_dist\n",
    "from hMDS.utils import distortion\n",
    "\n",
    "# Original distance matrix\n",
    "A = np.array([\n",
    "              [0.,  6,  8,  9,  10, 11, 12, 12], \n",
    "              [6.,  0,  6,  7,  8,  9,  10, 10],\n",
    "              [8.,  6,  0,  7,  8,  9,  10, 10],\n",
    "              [9.,  7,  7,  0,  7,  8,  9,  9],\n",
    "              [10,  8,  8,  7,  0,  5,  6,  6],\n",
    "              [11,  9,  9,  8,  5,  0,  5,  5],\n",
    "              [12, 10, 10,  9,  6,  5,  0,  4],\n",
    "              [12, 10, 10,  9,  6,  5,  4,  0],\n",
    "            ])\n",
    "# Run hMDS\n",
    "scale = 1\n",
    "Xrec = hmds(A, k=8, scale=scale)\n",
    "\n",
    "print(f\">> Embeddings in the Poincaré Ball of dimension r = {Xrec.shape[1]}\")\n",
    "\n",
    "# Compute the reconstructed distance matrix\n",
    "n = A.shape[0]\n",
    "Hrec = np.zeros_like(A)\n",
    "for i in range(n):\n",
    "    for j in range(n):\n",
    "        Hrec[i,j] = poincare_dist(Xrec[i], Xrec[j])/scale\n",
    "\n",
    "print(\">> Recovered pairwise distances:\")\n",
    "print(np.round(Hrec, 2))\n",
    "\n",
    "# Evaluate the distortion\n",
    "dist = distortion(A, Hrec, n=8)\n",
    "print(f'>> Average distortion = {np.round(dist[\"avg_distortion\"], 2)}, best average distortion is 0.')\n",
    "print(f'>> Worst-case distortion = {np.round(dist[\"wc_distortion\"], 2)}, best worst-case distortion is 1.')\n"
   ]
  },
  {
   "attachments": {},
   "cell_type": "markdown",
   "metadata": {},
   "source": [
    "# Embedding in the Poincaré Disk k=2"
   ]
  },
  {
   "attachments": {},
   "cell_type": "markdown",
   "metadata": {},
   "source": [
    "The Poincaré Disk is a hyperbolic space of only 2 dimensions. We can see how embedding in this space increases the distortion."
   ]
  },
  {
   "cell_type": "code",
   "execution_count": 2,
   "metadata": {},
   "outputs": [
    {
     "name": "stdout",
     "output_type": "stream",
     "text": [
      "Launching h-mds ...\n",
      "found 2 dimensions\n",
      "Time Elapsed = 0.0005154609680175781\n",
      ">> Embeddings in the Poincaré Ball of dimension r = 2\n",
      ">> Recovered pairwise distances:\n",
      "[[ 0.    3.    7.48  8.7   9.97 11.   12.   12.  ]\n",
      " [ 3.    0.    5.3   6.64  7.96  8.99  9.99  9.99]\n",
      " [ 7.48  5.3   0.    5.95  7.93  8.96  9.96  9.96]\n",
      " [ 8.7   6.64  5.95  0.    6.76  7.79  8.8   8.8 ]\n",
      " [ 9.97  7.96  7.93  6.76  0.    1.21  2.24  2.24]\n",
      " [11.    8.99  8.96  7.79  1.21  0.    1.03  1.03]\n",
      " [12.    9.99  9.96  8.8   2.24  1.03  0.    0.  ]\n",
      " [12.    9.99  9.96  8.8   2.24  1.03  0.    0.  ]]\n",
      ">> Average distortion = 0.17, best average distortion is 0.\n",
      ">> Worst-case distortion = 4.86, best worst-case distortion is 1.\n"
     ]
    }
   ],
   "source": [
    "# Run hMDS\n",
    "scale = 1\n",
    "Xrec = hmds(A, k=2, scale=scale)\n",
    "\n",
    "print(f\">> Embeddings in the Poincaré Ball of dimension r = {Xrec.shape[1]}\")\n",
    "\n",
    "# Compute the reconstructed distance matrix\n",
    "n = A.shape[0]\n",
    "Hrec = np.zeros_like(A)\n",
    "for i in range(n):\n",
    "    for j in range(n):\n",
    "        Hrec[i,j] = poincare_dist(Xrec[i], Xrec[j])/scale\n",
    "\n",
    "print(\">> Recovered pairwise distances:\")\n",
    "print(np.round(Hrec, 2))\n",
    "\n",
    "# Evaluate the distortion\n",
    "dist = distortion(A, Hrec, n=8)\n",
    "print(f'>> Average distortion = {np.round(dist[\"avg_distortion\"], 2)}, best average distortion is 0.')\n",
    "print(f'>> Worst-case distortion = {np.round(dist[\"wc_distortion\"], 2)}, best worst-case distortion is 1.')\n"
   ]
  }
 ],
 "metadata": {
  "kernelspec": {
   "display_name": "base",
   "language": "python",
   "name": "python3"
  },
  "language_info": {
   "codemirror_mode": {
    "name": "ipython",
    "version": 3
   },
   "file_extension": ".py",
   "mimetype": "text/x-python",
   "name": "python",
   "nbconvert_exporter": "python",
   "pygments_lexer": "ipython3",
   "version": "3.9.13"
  },
  "orig_nbformat": 4
 },
 "nbformat": 4,
 "nbformat_minor": 2
}
